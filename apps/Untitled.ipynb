{
 "cells": [
  {
   "cell_type": "code",
   "execution_count": 4,
   "id": "f581ffd9",
   "metadata": {
    "ExecuteTime": {
     "end_time": "2021-07-31T13:53:13.177185Z",
     "start_time": "2021-07-31T13:50:40.623379Z"
    }
   },
   "outputs": [
    {
     "name": "stdout",
     "output_type": "stream",
     "text": [
      "{'Dataset\\\\Tomato___Bacterial_spot': 0, 'Dataset\\\\Tomato___Early_blight': 1, 'Dataset\\\\Tomato___healthy': 2}\n",
      "(5191, 32, 32, 3) (5191,)\n",
      "5191\n",
      "5191\n"
     ]
    }
   ],
   "source": [
    "import numpy as np\n",
    "import os\n",
    "from pathlib import Path\n",
    "import matplotlib.pyplot as plt\n",
    "from keras.preprocessing import image\n",
    "from sklearn import svm\n",
    "import joblib\n",
    "p = Path(\"Dataset\")\n",
    "dirs = p.glob(\"*\")\n",
    "labels_dict = {}\n",
    "for i,folder_dir in enumerate(dirs):\n",
    "  label = str(folder_dir).split(\"/\")[-1][:]\n",
    "  labels_dict[label] = i  \n",
    "print(labels_dict)\n",
    "p = Path(\"Dataset\")\n",
    "dirs = p.glob(\"*\")\n",
    "image_data = []\n",
    "labels = []\n",
    "for i,folder_dir in enumerate(dirs):\n",
    "  label = str(folder_dir).split(\"/\")[-1][:]\n",
    "  for img_path in folder_dir.glob(\"*.JPG\"):\n",
    "    img = image.load_img(img_path, target_size=(32,32))\n",
    "    from numpy import asarray\n",
    "    img_array = asarray(img)\n",
    "    image_data.append(img_array)\n",
    "    labels.append(labels_dict[label])\n",
    "    \n",
    "image_data = np.array(image_data, dtype='float32')/255.0\n",
    "labels = np.array(labels)\n",
    "\n",
    "print(image_data.shape, labels.shape)\n",
    "print(len(image_data))\n",
    "print(len(labels))\n",
    "\n",
    "import random \n",
    "combined = list(zip(image_data, labels))\n",
    "random.shuffle(combined)\n",
    "\n",
    "image_data[:], labels[:] = zip(*combined)\n",
    "\n",
    "M = image_data.shape[0]\n",
    "image_data = image_data.reshape(M,-1)\n",
    "\n",
    "svm_classifier = svm.SVC(kernel='linear', C=1.0)\n",
    "svm_classifier.fit(image_data, labels)\n",
    "ypred_sklearn = svm_classifier.predict(image_data)\n",
    "svm_classifier.score(image_data,labels)\n",
    "# pickling the model\n",
    "import pickle\n",
    "Pkl_Filename = \"Pickle_RL_Model.pkl\"  \n",
    "\n",
    "with open(Pkl_Filename, 'wb') as file:  \n",
    "    pickle.dump(svm_classifier, file)"
   ]
  },
  {
   "cell_type": "code",
   "execution_count": null,
   "id": "13c04abe",
   "metadata": {
    "ExecuteTime": {
     "end_time": "2021-07-31T13:13:05.543018Z",
     "start_time": "2021-07-31T13:13:05.543018Z"
    },
    "scrolled": true
   },
   "outputs": [],
   "source": []
  },
  {
   "cell_type": "code",
   "execution_count": null,
   "id": "25abd003",
   "metadata": {
    "ExecuteTime": {
     "end_time": "2021-07-31T13:13:05.528055Z",
     "start_time": "2021-07-31T13:13:05.528055Z"
    }
   },
   "outputs": [],
   "source": [
    "\n",
    "def input():\n",
    "    p = Path(r\"C:\\Users\\skgha\\Projects\\Leaf_Disease_Detection\\Cropped images\")\n",
    "    dirs = p.glob(\"*\")\n",
    "    input_data = []\n",
    "    global var\n",
    "    var = \"Cant be Predicted\"\n",
    "    for i,folder_dir in enumerate(dirs):\n",
    "        label = str(folder_dir).split(\"/\")[-1][:]\n",
    "        for img_path in folder_dir.glob(\"*.JPG\"):\n",
    "            img_input = image.load_img(img_path, target_size=(32,32))\n",
    "            from numpy import asarray\n",
    "            inputmginput_array = asarray(img)\n",
    "            inputmginput_array = image.img_to_array(img_input)\n",
    "            input_data.append(imginput_array)\n",
    "    \n",
    "    input_data = np.array(input_data, dtype='float32')/255.0\n",
    "    M = input_data.shape[0]\n",
    "    input_data = input_data.reshape(M,-1)\n",
    "    list = os.listdir(r\"C:\\Users\\skgha\\Projects\\Leaf_Disease_Detection\\Cropped images\\cropped\")\n",
    "    for i in range(0,len(list)) :\n",
    "        ypred_sklearn = svm_classifier.predict([input_data[i]])\n",
    "        if ypred_sklearn == 0:\n",
    "            var = \"Spot\"\n",
    "        if ypred_sklearn == 1:\n",
    "            var = \"Blight\"\n",
    "        if ypred_sklearn == 2:\n",
    "            var = \"Healthy\"\n",
    "        i = i + 1\n",
    "        i = str(i)\n",
    "        print(str(i +\".jpg ---\"),var)\n",
    "    ypred_sklearn = svm_classifier.predict(input_data)\n",
    "    a = np.array(ypred_sklearn)\n",
    "    healthy = (a == 2).sum()\n",
    "    diseased = (a == 0).sum() + (a == 1).sum()\n",
    "    print(\"No of diseased\",diseased)\n",
    "    print(\"No of healthy \",healthy)\n",
    "    \n",
    "          \n",
    "input()"
   ]
  },
  {
   "cell_type": "code",
   "execution_count": null,
   "id": "35fab9c9",
   "metadata": {
    "ExecuteTime": {
     "end_time": "2021-07-31T13:13:05.534042Z",
     "start_time": "2021-07-31T13:13:05.534042Z"
    }
   },
   "outputs": [],
   "source": [
    "svm_classifier.score(image_data,labels)"
   ]
  },
  {
   "cell_type": "code",
   "execution_count": 88,
   "id": "6b9d7991",
   "metadata": {},
   "outputs": [],
   "source": []
  },
  {
   "cell_type": "code",
   "execution_count": null,
   "id": "e06dc59f",
   "metadata": {},
   "outputs": [],
   "source": []
  },
  {
   "cell_type": "code",
   "execution_count": null,
   "id": "55602d19",
   "metadata": {},
   "outputs": [],
   "source": []
  },
  {
   "cell_type": "code",
   "execution_count": null,
   "id": "e682eb27",
   "metadata": {},
   "outputs": [],
   "source": []
  },
  {
   "cell_type": "code",
   "execution_count": null,
   "id": "0966ccbd",
   "metadata": {},
   "outputs": [],
   "source": []
  },
  {
   "cell_type": "code",
   "execution_count": null,
   "id": "a28f02d9",
   "metadata": {
    "scrolled": true
   },
   "outputs": [],
   "source": [
    "input_data = np.array(input_data, dtype='float32')/255.0\n",
    "\n"
   ]
  },
  {
   "cell_type": "code",
   "execution_count": null,
   "id": "07d44efb",
   "metadata": {},
   "outputs": [],
   "source": [
    "\n",
    "print(ypred_sklearn)"
   ]
  },
  {
   "cell_type": "code",
   "execution_count": null,
   "id": "86d7099e",
   "metadata": {},
   "outputs": [],
   "source": []
  },
  {
   "cell_type": "code",
   "execution_count": null,
   "id": "55904f83",
   "metadata": {},
   "outputs": [],
   "source": [
    "loaded_model = joblib.load(filename)\n"
   ]
  },
  {
   "cell_type": "code",
   "execution_count": null,
   "id": "75a9bd1a",
   "metadata": {},
   "outputs": [],
   "source": [
    "\n",
    "result"
   ]
  },
  {
   "cell_type": "code",
   "execution_count": null,
   "id": "c845086a",
   "metadata": {},
   "outputs": [],
   "source": []
  }
 ],
 "metadata": {
  "hide_input": false,
  "kernelspec": {
   "display_name": "Python 3",
   "language": "python",
   "name": "python3"
  },
  "language_info": {
   "codemirror_mode": {
    "name": "ipython",
    "version": 3
   },
   "file_extension": ".py",
   "mimetype": "text/x-python",
   "name": "python",
   "nbconvert_exporter": "python",
   "pygments_lexer": "ipython3",
   "version": "3.8.8"
  },
  "nbTranslate": {
   "displayLangs": [
    "*"
   ],
   "hotkey": "alt-t",
   "langInMainMenu": true,
   "sourceLang": "en",
   "targetLang": "fr",
   "useGoogleTranslate": true
  },
  "toc": {
   "base_numbering": 1,
   "nav_menu": {},
   "number_sections": true,
   "sideBar": true,
   "skip_h1_title": false,
   "title_cell": "Table of Contents",
   "title_sidebar": "Contents",
   "toc_cell": false,
   "toc_position": {},
   "toc_section_display": true,
   "toc_window_display": false
  },
  "varInspector": {
   "cols": {
    "lenName": 16,
    "lenType": 16,
    "lenVar": 40
   },
   "kernels_config": {
    "python": {
     "delete_cmd_postfix": "",
     "delete_cmd_prefix": "del ",
     "library": "var_list.py",
     "varRefreshCmd": "print(var_dic_list())"
    },
    "r": {
     "delete_cmd_postfix": ") ",
     "delete_cmd_prefix": "rm(",
     "library": "var_list.r",
     "varRefreshCmd": "cat(var_dic_list()) "
    }
   },
   "types_to_exclude": [
    "module",
    "function",
    "builtin_function_or_method",
    "instance",
    "_Feature"
   ],
   "window_display": false
  }
 },
 "nbformat": 4,
 "nbformat_minor": 5
}
